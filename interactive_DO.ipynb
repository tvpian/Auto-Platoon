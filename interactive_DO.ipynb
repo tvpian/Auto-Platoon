{
 "cells": [
  {
   "cell_type": "code",
   "execution_count": 126,
   "metadata": {},
   "outputs": [],
   "source": [
    "import cv2\n",
    "import numpy as np\n",
    "from mediapipe.tasks.python import vision\n",
    "import mediapipe as mp\n",
    "import time\n",
    "from collections import defaultdict\n",
    "import matplotlib.pyplot as plt"
   ]
  },
  {
   "cell_type": "code",
   "execution_count": 83,
   "metadata": {},
   "outputs": [],
   "source": [
    "objectDectector_model_filepath = \"model/object_detector/efficientdet_lite0_uint8.tflite\"\n",
    "video_filepath = \"dataset/video_cars.mp4\"\n",
    "embedder_model_filepath = \"model/embedder/mobilenet_v3_small_075_224_embedder.tflite\""
   ]
  },
  {
   "cell_type": "code",
   "execution_count": 76,
   "metadata": {},
   "outputs": [],
   "source": [
    "ObjecttDetectorOptions = mp.tasks.vision.ObjectDetectorOptions(\n",
    "    base_options=mp.tasks.BaseOptions(model_asset_path=objectDectector_model_filepath),\n",
    "    max_results=50,\n",
    "    score_threshold=0.4,\n",
    "    running_mode=mp.tasks.vision.RunningMode.VIDEO\n",
    ")\n",
    "\n",
    "    "
   ]
  },
  {
   "cell_type": "code",
   "execution_count": 77,
   "metadata": {},
   "outputs": [
    {
     "name": "stdout",
     "output_type": "stream",
     "text": [
      "FPS:  60\n"
     ]
    }
   ],
   "source": [
    "cap = cv2.VideoCapture(video_filepath)\n",
    "fps = int(cap.get(cv2.CAP_PROP_FPS))\n",
    "print(\"FPS: \",fps)\n"
   ]
  },
  {
   "cell_type": "code",
   "execution_count": 79,
   "metadata": {},
   "outputs": [],
   "source": [
    "# setting up video writer for testing the object detector\n",
    "# We need to set resolutions.\n",
    "# so, convert them from float to integer.\n",
    "frame_width = int(cap.get(3))\n",
    "frame_height = int(cap.get(4))\n",
    "   \n",
    "size = (frame_width, frame_height)\n",
    "   \n",
    "# Below VideoWriter object will create\n",
    "# a frame of above defined The output \n",
    "# # is stored in 'filename.avi' file.\n",
    "# videoWriter = cv2.VideoWriter('objDetect_video_cars_test.avi', \n",
    "#                          cv2.VideoWriter_fourcc(*'MJPG'),\n",
    "#                          30, size)"
   ]
  },
  {
   "cell_type": "code",
   "execution_count": 81,
   "metadata": {},
   "outputs": [
    {
     "name": "stdout",
     "output_type": "stream",
     "text": [
      "Not able to read the frame\n",
      "time taken :  0.09204005826148247\n",
      "--------------\n"
     ]
    }
   ],
   "source": [
    "frame_idx = 0\n",
    "all_detections=defaultdict(list)\n",
    "avg_processing_time = 0\n",
    "with mp.tasks.vision.ObjectDetector.create_from_options(ObjecttDetectorOptions) as detector:\n",
    "    while cap.isOpened():\n",
    "        ret, img = cap.read()\n",
    "        if ret == True:\n",
    "\n",
    "            frame_idx+=1\n",
    "            # Calculate the timestamp of the current frame\n",
    "            frame_timestamp_ms = int(1000 * frame_idx / fps)\n",
    "            # print(frame_timestamp_ms)\n",
    "            time_start = time.perf_counter()\n",
    "            # Convert the frame received from OpenCV to a MediaPipe’s Image object.\n",
    "            mp_image = mp.Image(image_format=mp.ImageFormat.SRGB, data=img)\n",
    "\n",
    "            # Perform object detection on the video frame.\n",
    "            detection_results = detector.detect_for_video(mp_image, frame_timestamp_ms)\n",
    "            # print(\"time taken : \",time.perf_counter()-time_start)\n",
    "            # print(\"Detections:\",len(detection_results.detections))\n",
    "            # print(\"--------------\")\n",
    "            for det_res in detection_results.detections:\n",
    "                x = det_res.bounding_box.origin_x\n",
    "                y = det_res.bounding_box.origin_y\n",
    "                width = det_res.bounding_box.width\n",
    "                height = det_res.bounding_box.height\n",
    "                all_detections[frame_idx].append((x,y,x+width,y+height))\n",
    "                # img = cv2.rectangle(img, (x,y),(x+width,y+height),color=(0,255,0),thickness=2)\n",
    "            # cv2.imwrite(\"box_img.png\",img)\n",
    "            # videoWriter.write(img)\n",
    "            # break\n",
    "            time_processing = time.perf_counter()-time_start\n",
    "            avg_processing_time += time_processing\n",
    "        else:\n",
    "            print(\"Not able to read the frame\")\n",
    "            break\n",
    "cap.release()\n",
    "# videoWriter.release()\n",
    "print(\"time taken : \",avg_processing_time/frame_idx)\n",
    "# print(\"Detections:\",len(detection_results.detections))\n",
    "print(\"--------------\")"
   ]
  },
  {
   "cell_type": "code",
   "execution_count": 69,
   "metadata": {},
   "outputs": [
    {
     "data": {
      "text/plain": [
       "Detection(bounding_box=BoundingBox(origin_x=2269, origin_y=1173, width=497, height=388), categories=[Category(index=None, score=0.62890625, display_name=None, category_name='car')], keypoints=[])"
      ]
     },
     "execution_count": 69,
     "metadata": {},
     "output_type": "execute_result"
    }
   ],
   "source": [
    "detection_results.detections[0]"
   ]
  },
  {
   "cell_type": "code",
   "execution_count": 87,
   "metadata": {},
   "outputs": [],
   "source": [
    "# embeddings:\n",
    "# Create options for Image Embedder\n",
    "embedder_base_options = mp.tasks.BaseOptions(model_asset_path=embedder_model_filepath)\n",
    "l2_normalize = True #@param {type:\"boolean\"}\n",
    "quantize = True #@param {type:\"boolean\"}\n",
    "options = vision.ImageEmbedderOptions(\n",
    "    base_options=embedder_base_options, l2_normalize=l2_normalize, quantize=quantize,\n",
    "    running_mode= mp.tasks.vision.RunningMode.VIDEO)\n"
   ]
  },
  {
   "cell_type": "code",
   "execution_count": 174,
   "metadata": {},
   "outputs": [
    {
     "name": "stdout",
     "output_type": "stream",
     "text": [
      "FPS:  60\n"
     ]
    }
   ],
   "source": [
    "cap = cv2.VideoCapture(video_filepath)\n",
    "fps = int(cap.get(cv2.CAP_PROP_FPS))\n",
    "print(\"FPS: \",fps)\n",
    "\n",
    "# setting up video writer for testing the object detector\n",
    "# We need to set resolutions.\n",
    "# so, convert them from float to integer.\n",
    "frame_width = int(cap.get(3))\n",
    "frame_height = int(cap.get(4))\n",
    "   \n",
    "size = (frame_width, frame_height)\n",
    "   \n",
    "# Below VideoWriter object will create\n",
    "# a frame of above defined The output \n",
    "# # is stored in 'filename.avi' file.\n",
    "videoWriter = cv2.VideoWriter('objEmbed_video_cars_test.avi', \n",
    "                         cv2.VideoWriter_fourcc(*'MJPG'),\n",
    "                         10, size)"
   ]
  },
  {
   "cell_type": "code",
   "execution_count": 175,
   "metadata": {},
   "outputs": [
    {
     "name": "stdout",
     "output_type": "stream",
     "text": [
      "Not able to read the frame\n",
      "time taken :  1.5047214900066364\n"
     ]
    }
   ],
   "source": [
    "# Create Image Embedder\n",
    "frame_idx = 0\n",
    "prev_embeddings = [] # prev frame as 1, next frame as 2\n",
    "next_embeddings = []\n",
    "crop_idx = 0\n",
    "frame_interval = 10 # after how many frames check similarity\n",
    "avg_processing_time = 0\n",
    "car_idx = 0 #car counts detected cars in the video, same car will be not counted more than 1\n",
    "matching_thresh = 0.7\n",
    "with vision.ImageEmbedder.create_from_options(options) as embedder:\n",
    "   while cap.isOpened():\n",
    "        ret, img = cap.read()\n",
    "        if ret == True:\n",
    "\n",
    "            frame_idx+=1\n",
    "            if (frame_idx-1)%frame_interval==0:\n",
    "\n",
    "                time_start = time.perf_counter()\n",
    "                if len(prev_embeddings)==0:\n",
    "                    # take first frame as the reference for starting tracking\n",
    "                    for x1,y1,x2,y2 in all_detections[1]:\n",
    "                        car_idx+=1\n",
    "                        img_crop = img[y1:y2,x1:x2,:].astype(np.uint8)\n",
    "                        crop_idx+=1\n",
    "                        # Calculate the timestamp of the current frame\n",
    "                        frame_timestamp_ms = int(1000 * crop_idx / fps)\n",
    "                        # Convert the frame received from OpenCV to a MediaPipe’s Image object.\n",
    "                        mp_image = mp.Image(image_format=mp.ImageFormat.SRGB, data=img_crop)\n",
    "\n",
    "                        # Perform object detection on the video frame.\n",
    "                        embedding_result = embedder.embed_for_video(mp_image, frame_timestamp_ms)\n",
    "\n",
    "                        # print(int(frame_idx//frame_interval),embedding_result)\n",
    "                        prev_embeddings.append((img_crop,embedding_result,car_idx,(x1,y1,x2,y2)))\n",
    "                else:\n",
    "                    for x1,y1,x2,y2 in all_detections[frame_idx]:\n",
    "                        img_crop = img[y1:y2,x1:x2,:].astype(np.uint8)\n",
    "                        crop_idx+=1\n",
    "                        # Calculate the timestamp of the current frame\n",
    "                        frame_timestamp_ms = int(1000 * crop_idx / fps)\n",
    "                        # Convert the frame received from OpenCV to a MediaPipe’s Image object.\n",
    "                        mp_image = mp.Image(image_format=mp.ImageFormat.SRGB, data=img_crop)\n",
    "\n",
    "                        # Perform object detection on the video frame.\n",
    "                        embedding_result = embedder.embed_for_video(mp_image, frame_timestamp_ms)\n",
    "                        em1 = embedding_result.embeddings[0]\n",
    "                        best_match = 0\n",
    "                        new_car_idx = None\n",
    "                        for im_cr_prev, embed_prev, c_idx, coords in prev_embeddings:\n",
    "                            em2 = embed_prev.embeddings[0]\n",
    "                            similarity = vision.ImageEmbedder.cosine_similarity(\n",
    "                                em1,\n",
    "                                em2)\n",
    "\n",
    "                            if similarity>matching_thresh and similarity>best_match:\n",
    "                                best_match = similarity\n",
    "                                new_car_idx = c_idx\n",
    "                        if new_car_idx is None:\n",
    "                            car_idx+=1\n",
    "                            new_car_idx = car_idx\n",
    "                        # print(int(frame_idx//frame_interval),embedding_result)\n",
    "                        next_embeddings.append((img_crop,embedding_result,new_car_idx,(x1,y1,x2,y2)))\n",
    "                    prev_embeddings = next_embeddings.copy()\n",
    "                    next_embeddings = []\n",
    "     \n",
    "                for im_cr_prev, embed_prev, c_idx, coords in prev_embeddings:\n",
    "                    x1 = coords[0]\n",
    "                    y1 = coords[1]\n",
    "                    x2 = coords[2]\n",
    "                    y2 = coords[3]\n",
    "                    img = cv2.putText(img, f'{c_idx}', org=(x1,y1),\n",
    "                                        fontFace=cv2.FONT_HERSHEY_SIMPLEX,\n",
    "                                        fontScale=3,\n",
    "                                        color=(255,0,0),\n",
    "                                        thickness=2,\n",
    "                                        lineType=cv2.LINE_AA)\n",
    "                    img = cv2.rectangle(img, (x1,y1),(x2,y2),color=(0,255,0),thickness=5)\n",
    "                videoWriter.write(img)\n",
    "                try:    \n",
    "                    avg_processing_time+=(time.perf_counter()-time_start)/((frame_idx-1)//frame_interval)\n",
    "                except ZeroDivisionError as ZE:\n",
    "                    avg_processing_time+=(time.perf_counter()-time_start)\n",
    "\n",
    "        else:\n",
    "            print(\"Not able to read the frame\")\n",
    "            break\n",
    "cap.release()\n",
    "videoWriter.release()\n",
    "print(\"time taken : \",avg_processing_time)"
   ]
  },
  {
   "cell_type": "code",
   "execution_count": null,
   "metadata": {},
   "outputs": [],
   "source": []
  }
 ],
 "metadata": {
  "kernelspec": {
   "display_name": "Python 3",
   "language": "python",
   "name": "python3"
  },
  "language_info": {
   "codemirror_mode": {
    "name": "ipython",
    "version": 3
   },
   "file_extension": ".py",
   "mimetype": "text/x-python",
   "name": "python",
   "nbconvert_exporter": "python",
   "pygments_lexer": "ipython3",
   "version": "3.8.10"
  },
  "orig_nbformat": 4
 },
 "nbformat": 4,
 "nbformat_minor": 2
}
