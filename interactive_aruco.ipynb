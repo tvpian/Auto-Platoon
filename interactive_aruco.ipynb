{
 "cells": [
  {
   "cell_type": "code",
   "execution_count": 1,
   "metadata": {},
   "outputs": [],
   "source": [
    "import cv2\n",
    "import numpy as np\n",
    "import os"
   ]
  },
  {
   "cell_type": "code",
   "execution_count": 2,
   "metadata": {},
   "outputs": [
    {
     "name": "stdout",
     "output_type": "stream",
     "text": [
      "Aruco image marker shape (600, 600)\n"
     ]
    }
   ],
   "source": [
    "# Generate the Aruco Marker\n",
    "aruco_dict = cv2.aruco.getPredefinedDictionary(cv2.aruco.DICT_6X6_250)\n",
    "# i : is the id can be range from 0-256, each generate the unique aruco marker\n",
    "# 6x6 is the 6 bit \n",
    "# 700 is the image size\n",
    "i =20\n",
    "img = cv2.aruco.generateImageMarker(aruco_dict,i, 200)\n",
    "\n",
    "# make the aruco marker paste on the white image making the overal image shape(600,600)\n",
    "padded_img = np.pad(img,(200,200),mode=\"constant\",constant_values=255)\n",
    "print(\"Aruco image marker shape\",padded_img.shape)"
   ]
  },
  {
   "cell_type": "code",
   "execution_count": 3,
   "metadata": {},
   "outputs": [
    {
     "data": {
      "text/plain": [
       "True"
      ]
     },
     "execution_count": 3,
     "metadata": {},
     "output_type": "execute_result"
    }
   ],
   "source": [
    "cv2.imwrite(\"aruco_img.png\",padded_img)"
   ]
  },
  {
   "cell_type": "code",
   "execution_count": 4,
   "metadata": {},
   "outputs": [],
   "source": [
    "# Detect the Aruco Marker\n",
    "# gray = cv2.cvtColor(padded_img, cv2.COLOR_BGR2GRAY)\n",
    "arucoParams = cv2.aruco.DetectorParameters()\n",
    "arucoDetector = cv2.aruco.ArucoDetector(aruco_dict, arucoParams)\n",
    "(corners, ids, rejected) = arucoDetector.detectMarkers(padded_img)"
   ]
  },
  {
   "cell_type": "code",
   "execution_count": 7,
   "metadata": {},
   "outputs": [
    {
     "data": {
      "text/plain": [
       "(array([[[200., 200.],\n",
       "         [399., 200.],\n",
       "         [399., 399.],\n",
       "         [200., 399.]]], dtype=float32),)"
      ]
     },
     "execution_count": 7,
     "metadata": {},
     "output_type": "execute_result"
    }
   ],
   "source": [
    "corners"
   ]
  },
  {
   "cell_type": "code",
   "execution_count": 8,
   "metadata": {},
   "outputs": [
    {
     "data": {
      "text/plain": [
       "True"
      ]
     },
     "execution_count": 8,
     "metadata": {},
     "output_type": "execute_result"
    }
   ],
   "source": [
    "# corners gives the tuple containing array of shape (1,4,2) coordinates of the boundary of the aruco\n",
    "# ids: gives the id of that aruco marker.\n",
    "# getting center coordinate for the markers \n",
    "center_coords = []\n",
    "new_img = padded_img.copy()\n",
    "new_img = cv2.cvtColor(new_img, cv2.COLOR_GRAY2BGR)\n",
    "for corner in corners:\n",
    "    corner = corner.squeeze()\n",
    "    cx = int(corner[2,0] - (corner[2,0]-corner[0,0])//2)\n",
    "    cy = int(corner[2,1] - (corner[2,1]-corner[0,1])//2)\n",
    "    center_coords.append([cx,cy])\n",
    "    new_img = cv2.circle(new_img, (cx,cy), 2, (0,255,0),2)\n",
    "cv2.imwrite(\"arucoDetect_img.png\",new_img)"
   ]
  },
  {
   "cell_type": "code",
   "execution_count": null,
   "metadata": {},
   "outputs": [],
   "source": []
  }
 ],
 "metadata": {
  "kernelspec": {
   "display_name": "Python 3",
   "language": "python",
   "name": "python3"
  },
  "language_info": {
   "codemirror_mode": {
    "name": "ipython",
    "version": 3
   },
   "file_extension": ".py",
   "mimetype": "text/x-python",
   "name": "python",
   "nbconvert_exporter": "python",
   "pygments_lexer": "ipython3",
   "version": "3.8.10"
  },
  "orig_nbformat": 4
 },
 "nbformat": 4,
 "nbformat_minor": 2
}
